{
  "nbformat": 4,
  "nbformat_minor": 0,
  "metadata": {
    "colab": {
      "name": "TF2.0 FAshion MNIST.ipynb",
      "provenance": [],
      "collapsed_sections": [],
      "authorship_tag": "ABX9TyP3nZULq3Qow1gu3lO5rkLp",
      "include_colab_link": true
    },
    "kernelspec": {
      "name": "python3",
      "display_name": "Python 3"
    },
    "language_info": {
      "name": "python"
    },
    "accelerator": "GPU",
    "gpuClass": "standard"
  },
  "cells": [
    {
      "cell_type": "markdown",
      "metadata": {
        "id": "view-in-github",
        "colab_type": "text"
      },
      "source": [
        "<a href=\"https://colab.research.google.com/github/TanishqGoyal02/Google_collabANN/blob/main/TF2_0_FAshion_MNIST.ipynb\" target=\"_parent\"><img src=\"https://colab.research.google.com/assets/colab-badge.svg\" alt=\"Open In Colab\"/></a>"
      ]
    },
    {
      "cell_type": "code",
      "execution_count": 2,
      "metadata": {
        "colab": {
          "base_uri": "https://localhost:8080/"
        },
        "id": "llyl65lttpyX",
        "outputId": "7e485716-74b2-4fca-aebc-442f1fc21b0e"
      },
      "outputs": [
        {
          "output_type": "stream",
          "name": "stdout",
          "text": [
            "Downloading data from https://storage.googleapis.com/tensorflow/tf-keras-datasets/train-labels-idx1-ubyte.gz\n",
            "32768/29515 [=================================] - 0s 0us/step\n",
            "40960/29515 [=========================================] - 0s 0us/step\n",
            "Downloading data from https://storage.googleapis.com/tensorflow/tf-keras-datasets/train-images-idx3-ubyte.gz\n",
            "26427392/26421880 [==============================] - 0s 0us/step\n",
            "26435584/26421880 [==============================] - 0s 0us/step\n",
            "Downloading data from https://storage.googleapis.com/tensorflow/tf-keras-datasets/t10k-labels-idx1-ubyte.gz\n",
            "16384/5148 [===============================================================================================] - 0s 0us/step\n",
            "Downloading data from https://storage.googleapis.com/tensorflow/tf-keras-datasets/t10k-images-idx3-ubyte.gz\n",
            "4423680/4422102 [==============================] - 0s 0us/step\n",
            "4431872/4422102 [==============================] - 0s 0us/step\n",
            "(60000, 28, 28)\n"
          ]
        }
      ],
      "source": [
        "import tensorflow as tf\n",
        "import matplotlib.pyplot as plt\n",
        "import numpy as np\n",
        "from tensorflow.keras.layers import Input, Conv2D, Dense, Flatten, Dropout\n",
        "from tensorflow.keras.models import Model\n",
        "\n",
        "fashion_mnist = tf.keras.datasets.fashion_mnist\n",
        "(x_train, y_train), (x_test, y_test) = fashion_mnist.load_data()\n",
        "x_train, x_test = x_train/255.0, x_test/255.0\n",
        "print(x_train.shape)\n",
        "\n"
      ]
    },
    {
      "cell_type": "code",
      "source": [
        "x_train = np.expand_dims(x_train, -1)\n",
        "x_test = np.expand_dims(x_test, -1)\n",
        "print(x_train.shape)"
      ],
      "metadata": {
        "colab": {
          "base_uri": "https://localhost:8080/"
        },
        "id": "yckzoIfXxpow",
        "outputId": "79daab62-9b66-4e4b-da27-e400a6900b8d"
      },
      "execution_count": 3,
      "outputs": [
        {
          "output_type": "stream",
          "name": "stdout",
          "text": [
            "(60000, 28, 28, 1)\n"
          ]
        }
      ]
    },
    {
      "cell_type": "code",
      "source": [
        "k= len(set(y_train))\n",
        "\n",
        "i = Input(shape = x_train[0].shape)\n",
        "x= Conv2D(32, (3,3), strides= 2, activation='relu')(i)\n",
        "x= Conv2D(64, (3,3), strides= 2, activation='relu')(i)\n",
        "x= Conv2D(128, (3,3), strides= 2, activation='relu')(i)\n",
        "x= Conv2D(256, (3,3), strides= 2, activation='relu')(i)\n",
        "x= Flatten()(x)\n",
        "x= Dropout(0.2)(x)\n",
        "x=Dense(512, activation='relu')(x)\n",
        "x= Dropout(0.2)(x)\n",
        "x=Dense(10, activation='softmax')(x)\n",
        "model=Model(i,x)\n",
        "\n",
        "model.compile(optimizer='adam', loss='sparse_categorical_crossentropy', metrics=['accuracy'])\n",
        "r= model.fit(x_train, y_train, validation_data=(x_test, y_test), epochs=15)\n"
      ],
      "metadata": {
        "colab": {
          "base_uri": "https://localhost:8080/"
        },
        "id": "W3BX7uiOx8Pr",
        "outputId": "59b66c4b-17e8-4420-8379-fea2fd2d587c"
      },
      "execution_count": 4,
      "outputs": [
        {
          "output_type": "stream",
          "name": "stdout",
          "text": [
            "Epoch 1/15\n",
            "1875/1875 [==============================] - 26s 8ms/step - loss: 0.3916 - accuracy: 0.8578 - val_loss: 0.3167 - val_accuracy: 0.8845\n",
            "Epoch 2/15\n",
            "1875/1875 [==============================] - 16s 8ms/step - loss: 0.2647 - accuracy: 0.9021 - val_loss: 0.2862 - val_accuracy: 0.8948\n",
            "Epoch 3/15\n",
            "1875/1875 [==============================] - 14s 8ms/step - loss: 0.2129 - accuracy: 0.9196 - val_loss: 0.2832 - val_accuracy: 0.9024\n",
            "Epoch 4/15\n",
            "1875/1875 [==============================] - 14s 8ms/step - loss: 0.1710 - accuracy: 0.9362 - val_loss: 0.2867 - val_accuracy: 0.9051\n",
            "Epoch 5/15\n",
            "1875/1875 [==============================] - 14s 8ms/step - loss: 0.1382 - accuracy: 0.9482 - val_loss: 0.3051 - val_accuracy: 0.9065\n",
            "Epoch 6/15\n",
            "1875/1875 [==============================] - 15s 8ms/step - loss: 0.1133 - accuracy: 0.9576 - val_loss: 0.3252 - val_accuracy: 0.9053\n",
            "Epoch 7/15\n",
            "1875/1875 [==============================] - 15s 8ms/step - loss: 0.0946 - accuracy: 0.9650 - val_loss: 0.3437 - val_accuracy: 0.9081\n",
            "Epoch 8/15\n",
            "1875/1875 [==============================] - 15s 8ms/step - loss: 0.0781 - accuracy: 0.9709 - val_loss: 0.3786 - val_accuracy: 0.9067\n",
            "Epoch 9/15\n",
            "1875/1875 [==============================] - 14s 8ms/step - loss: 0.0681 - accuracy: 0.9746 - val_loss: 0.4190 - val_accuracy: 0.9055\n",
            "Epoch 10/15\n",
            "1875/1875 [==============================] - 15s 8ms/step - loss: 0.0589 - accuracy: 0.9790 - val_loss: 0.4183 - val_accuracy: 0.9097\n",
            "Epoch 11/15\n",
            "1875/1875 [==============================] - 14s 8ms/step - loss: 0.0508 - accuracy: 0.9817 - val_loss: 0.4643 - val_accuracy: 0.9046\n",
            "Epoch 12/15\n",
            "1875/1875 [==============================] - 15s 8ms/step - loss: 0.0464 - accuracy: 0.9832 - val_loss: 0.4944 - val_accuracy: 0.9002\n",
            "Epoch 13/15\n",
            "1875/1875 [==============================] - 15s 8ms/step - loss: 0.0415 - accuracy: 0.9849 - val_loss: 0.5067 - val_accuracy: 0.9039\n",
            "Epoch 14/15\n",
            "1875/1875 [==============================] - 14s 8ms/step - loss: 0.0373 - accuracy: 0.9865 - val_loss: 0.5538 - val_accuracy: 0.9018\n",
            "Epoch 15/15\n",
            "1875/1875 [==============================] - 15s 8ms/step - loss: 0.0350 - accuracy: 0.9876 - val_loss: 0.5822 - val_accuracy: 0.9040\n"
          ]
        }
      ]
    },
    {
      "cell_type": "code",
      "source": [
        "from sklearn.metrics import confusion_matrix\n",
        "import itertools\n",
        "def plot_confusion_matrix(cm, classes, normalize=False, title='Confusion matrix', cmap = plt.cm.Blues):\n",
        "  if normalize:\n",
        "    cm = cm.astype('float')/cm.sum(axis=1)[:,np.newazis]\n",
        "    print(\"Normalized confusion matrix\")\n",
        "  else:\n",
        "    print(\"confusion matrix, without normalization\")\n",
        "\n",
        "  print(cm)\n",
        "\n",
        "  plt.imshow(cm, interpolation='nearest', cmap=cmap)\n",
        "  plt.title(title)\n",
        "  plt.colorbar()\n",
        "  tick_marks = np.arrange(len(classes))\n",
        "  plt.xticks(tick_marks, classes, rotation= 45)\n",
        "  plt.yticks(tick_marks, classes)\n",
        "\n",
        "  fmt ='.2f' if normalize else 'd'\n",
        "  thresh = cm.max()/2.\n",
        "  for i, j in itertools.product(range(cm.shape[0]), range(cm.shape[1])):\n",
        "     plt.text(j,i,format(cm[i,j], fmt),\n",
        "             horizontalalignment= \"center\",\n",
        "             color='white' if cm[i,j]>thresh else \"black\")\n",
        "  plt.tight_layout()\n",
        "  plt.ylabel('True label')\n",
        "  plt.xlabel('Predicted label')\n",
        "  plt.show()\n",
        "\n",
        "p_test=model.predict(x_test).argmax(axis=1)\n",
        "cm = confusion_matrix(y_test, p_test)\n",
        "plot_confusion_matrix(cm, list(range(10)))"
      ],
      "metadata": {
        "colab": {
          "base_uri": "https://localhost:8080/",
          "height": 131
        },
        "id": "5-rOM3ZW9UFB",
        "outputId": "0c8a2387-9be9-4505-9baf-08b116f33f7d"
      },
      "execution_count": 9,
      "outputs": [
        {
          "output_type": "error",
          "ename": "SyntaxError",
          "evalue": "ignored",
          "traceback": [
            "\u001b[0;36m  File \u001b[0;32m\"<ipython-input-9-be78905449a4>\"\u001b[0;36m, line \u001b[0;32m30\u001b[0m\n\u001b[0;31m    plt.tight_layout()\u001b[0m\n\u001b[0m      ^\u001b[0m\n\u001b[0;31mSyntaxError\u001b[0m\u001b[0;31m:\u001b[0m invalid syntax\n"
          ]
        }
      ]
    },
    {
      "cell_type": "code",
      "source": [
        "import matplotlib.pyplot as plt\n",
        "plt.plot(r.history['accuracy'], label='acc')\n",
        "plt.plot(r.history['val_loss'], label='val_loss')\n",
        "plt.legend()"
      ],
      "metadata": {
        "id": "dDaeXhGC284O"
      },
      "execution_count": null,
      "outputs": []
    }
  ]
}